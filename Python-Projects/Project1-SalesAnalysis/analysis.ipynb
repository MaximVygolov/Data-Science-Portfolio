
{
 "cells": [
  {
   "cell_type": "code",
   "execution_count": null,
   "id": "d446e2c3",
   "metadata": {},
   "outputs": [],
   "source": [
    "import pandas as pd\n",
    "import matplotlib.pyplot as plt\n",
    "import seaborn as sns\n",
    "\n",
    "# Загрузка данных\n",
    "sales_data = pd.read_csv('data/sales_data.csv')\n",
    "\n",
    "# Популярные продукты\n",
    "popular_products = sales_data.groupby('product_id')['quantity'].sum().sort_values(ascending=False).head(10)\n",
    "popular_products.plot(kind='bar')\n",
    "plt.title('Популярные продукты')\n",
    "plt.xlabel('Product ID')\n",
    "plt.ylabel('Total Sold')\n",
    "plt.savefig('visualizations/popular_products.png')\n",
    "plt.show()\n",
    "\n",
    "# Сезонные колебания\n",
    "sales_data['transaction_date'] = pd.to_datetime(sales_data['transaction_date'])\n",
    "sales_data['month'] = sales_data['transaction_date'].dt.month\n",
    "seasonal_variations = sales_data.groupby('month')['total_amount'].sum()\n",
    "seasonal_variations.plot(kind='line')\n",
    "plt.title('Сезонные колебания')\n",
    "plt.xlabel('Month')\n",
    "plt.ylabel('Total Revenue')\n",
    "plt.savefig('visualizations/seasonal_variations.png')\n",
    "plt.show()\n",
    "\n",
    "# Основные клиенты\n",
    "top_customers = sales_data.groupby('customer_id')['total_amount'].sum().sort_values(ascending=False).head(10)\n",
    "top_customers.plot(kind='bar')\n",
    "plt.title('Основные клиенты')\n",
    "plt.xlabel('Customer ID')\n",
    "plt.ylabel('Total Spent')\n",
    "plt.savefig('visualizations/top_customers.png')\n",
    "plt.show()"
   ]
  }
 ],
 "metadata": {
  "kernelspec": {
   "display_name": "Python 3",
   "language": "python",
   "name": "python3"
  },
  "language_info": {
   "codemirror_mode": {
    "name": "ipython",
    "version": 3
   },
   "file_extension": ".py",
   "mimetype": "text/x-python",
   "name": "python",
   "nbconvert_exporter": "python",
   "pygments_lexer": "ipython3",
   "version": "3.8.8"
  }
 },
 "nbformat": 4,
 "nbformat_minor": 5
}
