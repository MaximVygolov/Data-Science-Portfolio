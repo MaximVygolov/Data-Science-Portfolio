
{
 "cells": [
  {
   "cell_type": "code",
   "execution_count": null,
   "id": "d446e2c3",
   "metadata": {},
   "outputs": [],
   "source": [
    "import pandas as pd\n",
    "import matplotlib.pyplot as plt\n",
    "import seaborn as sns\n",
    "\n",
    "# Загрузка данных\n",
    "customer_data = pd.read_csv('data/customer_data.csv')\n",
    "\n",
    "# Сегменты клиентов\n",
    "customer_segments = customer_data.groupby('age')['customer_id'].count().sort_values(ascending=False)\n",
    "customer_segments.plot(kind='bar')\n",
    "plt.title('Сегменты клиентов')\n",
    "plt.xlabel('Age')\n",
    "plt.ylabel('Customer Count')\n",
    "plt.savefig('visualizations/customer_segments.png')\n",
    "plt.show()\n",
    "\n",
    "# Частота покупок\n",
    "purchase_frequency = customer_data.groupby('customer_id')['purchase_date'].count().sort_values(ascending=False).head(10)\n",
    "purchase_frequency.plot(kind='bar')\n",
    "plt.title('Частота покупок')\n",
    "plt.xlabel('Customer ID')\n",
    "plt.ylabel('Purchase Count')\n",
    "plt.savefig('visualizations/purchase_frequency.png')\n",
    "plt.show()\n",
    "\n",
    "# Демографические характеристики\n",
    "demographics = customer_data.groupby('gender')['age'].mean()\n",
    "demographics.plot(kind='bar')\n",
    "plt.title('Демографические характеристики')\n",
    "plt.xlabel('Gender')\n",
    "plt.ylabel('Average Age')\n",
    "plt.savefig('visualizations/demographics.png')\n",
    "plt.show()"
   ]
  }
 ],
 "metadata": {
  "kernelspec": {
   "display_name": "Python 3",
   "language": "python",
   "name": "python3"
  },
  "language_info": {
   "codemirror_mode": {
    "name": "ipython",
    "version": 3
   },
   "file_extension": ".py",
   "mimetype": "text/x-python",
   "name": "python",
   "nbconvert_exporter": "python",
   "pygments_lexer": "ipython3",
   "version": "3.8.8"
  }
 },
 "nbformat": 4,
 "nbformat_minor": 5
}
