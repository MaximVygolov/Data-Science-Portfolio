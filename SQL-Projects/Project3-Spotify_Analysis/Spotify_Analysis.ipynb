{
 "cells": [
  {
   "cell_type": "code",
   "execution_count": 1,
   "id": "eadeffe9",
   "metadata": {},
   "outputs": [],
   "source": [
    "# Загрузка библиотек\n",
    "import pandas as pd\n",
    "import sqlite3"
   ]
  },
  {
   "cell_type": "code",
   "execution_count": 2,
   "id": "82deb34c",
   "metadata": {},
   "outputs": [],
   "source": [
    "# Путь к базе данных\n",
    "db_path = 'spotify_music.db'"
   ]
  },
  {
   "cell_type": "code",
   "execution_count": 3,
   "id": "04d10ec5",
   "metadata": {},
   "outputs": [],
   "source": [
    "# Загрузка данных из CSV и добавление в SQLite\n",
    "def load_data_to_db(csv_path):\n",
    "    try:\n",
    "        # Загрузка данных из CSV в DataFrame\n",
    "        data = pd.read_csv(csv_path)\n",
    "        print(\"Data loaded successfully.\")\n",
    "\n",
    "        # Подключение к базе данных\n",
    "        conn = sqlite3.connect(db_path)\n",
    "\n",
    "        # Сохранение данных в таблицу 'tracks'\n",
    "        table_name = 'tracks'\n",
    "        data.to_sql(table_name, conn, if_exists='replace', index=False)\n",
    "        print(f\"Table '{table_name}' created and data inserted successfully.\")\n",
    "\n",
    "        # Удаление дубликатов из таблицы tracks\n",
    "        remove_duplicates(conn, table_name)\n",
    "\n",
    "    except FileNotFoundError:\n",
    "        print(\"CSV file not found. Please check the file path.\")\n",
    "    except sqlite3.Error as e:\n",
    "        print(f\"Error occurred: {e}\")\n",
    "    finally:\n",
    "        if conn:\n",
    "            conn.close()"
   ]
  },
  {
   "cell_type": "code",
   "execution_count": 4,
   "id": "b6120e10",
   "metadata": {},
   "outputs": [],
   "source": [
    "# Функция для удаления дубликатов в таблице tracks\n",
    "def remove_duplicates(conn, table_name):\n",
    "    try:\n",
    "        cursor = conn.cursor()\n",
    "\n",
    "        # Удаление дубликатов на основе уникальных комбинаций track_name, artists и popularity\n",
    "        cursor.execute(f\"\"\"\n",
    "        DELETE FROM {table_name}\n",
    "        WHERE rowid NOT IN (\n",
    "            SELECT MIN(rowid)\n",
    "            FROM {table_name}\n",
    "            GROUP BY track_name, artists, popularity\n",
    "        );\n",
    "        \"\"\")\n",
    "        conn.commit()\n",
    "        print(\"Duplicates removed successfully.\")\n",
    "\n",
    "    except sqlite3.Error as e:\n",
    "        print(f\"Error occurred while removing duplicates: {e}\")"
   ]
  },
  {
   "cell_type": "code",
   "execution_count": 5,
   "id": "13eea4e9",
   "metadata": {},
   "outputs": [],
   "source": [
    "# Универсальная функция для выполнения SQL-запросов\n",
    "def execute_query(query, result_processor):\n",
    "    \"\"\"\n",
    "    Выполняет SQL-запрос и обрабатывает результаты через переданную функцию обработки.\n",
    "\n",
    "    :param query: SQL-запрос, который нужно выполнить.\n",
    "    :param result_processor: Функция для обработки результатов запроса.\n",
    "    \"\"\"\n",
    "    try:\n",
    "        conn = sqlite3.connect(db_path)\n",
    "        cursor = conn.cursor()\n",
    "\n",
    "        # Выполнение запроса\n",
    "        cursor.execute(query)\n",
    "        results = cursor.fetchall()\n",
    "\n",
    "        # Обработка результатов через переданную функцию\n",
    "        result_processor(results)\n",
    "\n",
    "    except sqlite3.Error as e:\n",
    "        print(f\"Error occurred: {e}\")\n",
    "\n",
    "    finally:\n",
    "        if conn:\n",
    "            conn.close()"
   ]
  },
  {
   "cell_type": "code",
   "execution_count": 6,
   "id": "0c27ea34",
   "metadata": {},
   "outputs": [],
   "source": [
    "# Функция обработки результатов для get_top_popular_tracks\n",
    "def process_top_popular_tracks(results):\n",
    "    print(\"\\nTop 10 Popular Tracks:\")\n",
    "    if results:\n",
    "        for idx, (track_name, artists, popularity) in enumerate(results, start=1):\n",
    "            print(f\"{idx}. {track_name} by {artists} - Popularity: {popularity}\")\n",
    "    else:\n",
    "        print(\"No data found.\")\n",
    "\n",
    "\n",
    "# Функция для получения самых популярных треков без дубликатов\n",
    "def get_top_popular_tracks():\n",
    "    query = \"\"\"\n",
    "    SELECT DISTINCT track_name, artists, popularity\n",
    "    FROM tracks\n",
    "    ORDER BY popularity DESC\n",
    "    LIMIT 10;\n",
    "    \"\"\"\n",
    "    execute_query(query, process_top_popular_tracks)"
   ]
  },
  {
   "cell_type": "code",
   "execution_count": 7,
   "id": "f7e46583",
   "metadata": {},
   "outputs": [],
   "source": [
    "# Функция обработки результатов для get_top_artists_by_genre\n",
    "def process_top_artists_by_genre(results):\n",
    "    print(\"\\nTop Artists by Genre:\")\n",
    "    if results:\n",
    "        for idx, (genre, artist, avg_popularity) in enumerate(results, start=1):\n",
    "            print(f\"{idx}. Genre: {genre}, Artist: {artist} - Average Popularity: {avg_popularity:.2f}\")\n",
    "    else:\n",
    "        print(\"No data found.\")"
   ]
  },
  {
   "cell_type": "code",
   "execution_count": 8,
   "id": "108a1434",
   "metadata": {},
   "outputs": [],
   "source": [
    "# Функция для нахождения самых популярных исполнителей по жанрам\n",
    "def get_top_artists_by_genre():\n",
    "    query = \"\"\"\n",
    "    SELECT track_genre, artists, AVG(popularity) as avg_popularity\n",
    "    FROM tracks\n",
    "    GROUP BY track_genre, artists\n",
    "    ORDER BY avg_popularity DESC\n",
    "    LIMIT 10;\n",
    "    \"\"\"\n",
    "    execute_query(query, process_top_artists_by_genre)"
   ]
  },
  {
   "cell_type": "code",
   "execution_count": 9,
   "id": "0906350b",
   "metadata": {},
   "outputs": [],
   "source": [
    "# Функция обработки результатов для анализа по explicit-содержанию\n",
    "def process_explicit_tracks(results):\n",
    "    print(\"\\nAnalysis of Explicit and Non-Explicit Tracks:\")\n",
    "    if results:\n",
    "        for idx, (explicit, track_count, avg_popularity) in enumerate(results, start=1):\n",
    "            explicit_label = 'Explicit' if explicit == 1 else 'Non-Explicit'\n",
    "            print(f\"{idx}. {explicit_label} Tracks: {track_count}, Avg Popularity: {avg_popularity:.2f}\")\n",
    "    else:\n",
    "        print(\"No data found.\")"
   ]
  },
  {
   "cell_type": "code",
   "execution_count": 10,
   "id": "80fb20a5",
   "metadata": {},
   "outputs": [],
   "source": [
    "# Функция для анализа explicit треков\n",
    "def analyze_explicit_tracks():\n",
    "    query = \"\"\"\n",
    "    SELECT explicit, COUNT(*) as track_count, AVG(popularity) as avg_popularity\n",
    "    FROM tracks\n",
    "    GROUP BY explicit\n",
    "    ORDER BY track_count DESC;\n",
    "    \"\"\"\n",
    "    execute_query(query, process_explicit_tracks)"
   ]
  },
  {
   "cell_type": "code",
   "execution_count": 11,
   "id": "30369559",
   "metadata": {},
   "outputs": [],
   "source": [
    "# Функция обработки результатов для сравнения артистов\n",
    "def process_compare_artists(results):\n",
    "    print(\"\\nComparison of Top Artists by Track Count and Popularity:\")\n",
    "    if results:\n",
    "        for idx, (artists, track_count, avg_popularity) in enumerate(results, start=1):\n",
    "            print(f\"{idx}. Artist: {artists}, Track Count: {track_count}, Avg Popularity: {avg_popularity:.2f}\")\n",
    "    else:\n",
    "        print(\"No data found for artists.\")"
   ]
  },
  {
   "cell_type": "code",
   "execution_count": 12,
   "id": "1024c94c",
   "metadata": {},
   "outputs": [],
   "source": [
    "# Функция для сравнения артистов\n",
    "def compare_artists():\n",
    "    query = \"\"\"\n",
    "    SELECT artists, COUNT(track_name) as track_count, AVG(popularity) as avg_popularity\n",
    "    FROM tracks\n",
    "    GROUP BY artists\n",
    "    ORDER BY avg_popularity DESC, track_count DESC\n",
    "    LIMIT 10;\n",
    "    \"\"\"\n",
    "    execute_query(query, process_compare_artists)"
   ]
  },
  {
   "cell_type": "code",
   "execution_count": 13,
   "id": "182b207b",
   "metadata": {},
   "outputs": [
    {
     "name": "stdout",
     "output_type": "stream",
     "text": [
      "\n",
      "Top 10 Popular Tracks:\n",
      "1. Unholy (feat. Kim Petras) by Sam Smith;Kim Petras - Popularity: 100\n",
      "2. Quevedo: Bzrp Music Sessions, Vol. 52 by Bizarrap;Quevedo - Popularity: 99\n",
      "3. I'm Good (Blue) by David Guetta;Bebe Rexha - Popularity: 98\n",
      "4. La Bachata by Manuel Turizo - Popularity: 98\n",
      "5. Me Porto Bonito by Bad Bunny;Chencho Corleone - Popularity: 97\n",
      "6. Tití Me Preguntó by Bad Bunny - Popularity: 97\n",
      "7. Under The Influence by Chris Brown - Popularity: 96\n",
      "8. Efecto by Bad Bunny - Popularity: 96\n",
      "9. I Ain't Worried by OneRepublic - Popularity: 96\n",
      "10. Ojitos Lindos by Bad Bunny;Bomba Estéreo - Popularity: 95\n",
      "\n",
      "Top Artists by Genre:\n",
      "1. Genre: dance, Artist: Sam Smith;Kim Petras - Average Popularity: 100.00\n",
      "2. Genre: hip-hop, Artist: Bizarrap;Quevedo - Average Popularity: 99.00\n",
      "3. Genre: latin, Artist: Manuel Turizo - Average Popularity: 98.00\n",
      "4. Genre: latin, Artist: Bad Bunny;Chencho Corleone - Average Popularity: 97.00\n",
      "5. Genre: latin, Artist: Bad Bunny - Average Popularity: 95.00\n",
      "6. Genre: latin, Artist: Bad Bunny;Bomba Estéreo - Average Popularity: 95.00\n",
      "7. Genre: reggae, Artist: Bad Bunny - Average Popularity: 95.00\n",
      "8. Genre: pop, Artist: Joji - Average Popularity: 94.00\n",
      "9. Genre: reggae, Artist: Bad Bunny;Bomba Estéreo - Average Popularity: 94.00\n",
      "10. Genre: dance, Artist: Beyoncé - Average Popularity: 93.00\n",
      "\n",
      "Analysis of Explicit and Non-Explicit Tracks:\n",
      "1. Non-Explicit Tracks: 79145, Avg Popularity: 34.30\n",
      "2. Explicit Tracks: 7405, Avg Popularity: 38.61\n",
      "\n",
      "Comparison of Top Artists by Track Count and Popularity:\n",
      "1. Artist: Sam Smith;Kim Petras, Track Count: 1, Avg Popularity: 100.00\n",
      "2. Artist: Bizarrap;Quevedo, Track Count: 1, Avg Popularity: 99.00\n",
      "3. Artist: Manuel Turizo, Track Count: 1, Avg Popularity: 98.00\n",
      "4. Artist: Bad Bunny;Chencho Corleone, Track Count: 1, Avg Popularity: 97.00\n",
      "5. Artist: Bad Bunny;Bomba Estéreo, Track Count: 2, Avg Popularity: 94.50\n",
      "6. Artist: Joji, Track Count: 1, Avg Popularity: 94.00\n",
      "7. Artist: Beyoncé, Track Count: 1, Avg Popularity: 93.00\n",
      "8. Artist: Harry Styles, Track Count: 3, Avg Popularity: 92.00\n",
      "9. Artist: Rema;Selena Gomez, Track Count: 1, Avg Popularity: 92.00\n",
      "10. Artist: Drake;21 Savage, Track Count: 1, Avg Popularity: 91.00\n"
     ]
    }
   ],
   "source": [
    "# Запуск функций для анализа данных\n",
    "get_top_popular_tracks()\n",
    "get_top_artists_by_genre()\n",
    "analyze_explicit_tracks()\n",
    "compare_artists()"
   ]
  },
  {
   "cell_type": "code",
   "execution_count": null,
   "id": "4fa2b65f",
   "metadata": {},
   "outputs": [],
   "source": []
  }
 ],
 "metadata": {
  "kernelspec": {
   "display_name": "Python 3 (ipykernel)",
   "language": "python",
   "name": "python3"
  },
  "language_info": {
   "codemirror_mode": {
    "name": "ipython",
    "version": 3
   },
   "file_extension": ".py",
   "mimetype": "text/x-python",
   "name": "python",
   "nbconvert_exporter": "python",
   "pygments_lexer": "ipython3",
   "version": "3.11.5"
  },
  "nbTranslate": {
   "displayLangs": [
    "*"
   ],
   "hotkey": "alt-t",
   "langInMainMenu": true,
   "sourceLang": "en",
   "targetLang": "fr",
   "useGoogleTranslate": true
  }
 },
 "nbformat": 4,
 "nbformat_minor": 5
}
